{
 "cells": [
  {
   "cell_type": "markdown",
   "id": "0b370d64-2ece-4683-97b7-dea6bf87b631",
   "metadata": {},
   "source": [
    "***Emma Arenas Villaverde***"
   ]
  },
  {
   "cell_type": "markdown",
   "id": "1b27aaeb-5247-48a2-9f88-59186619b039",
   "metadata": {},
   "source": [
    "# Análisis de datos estadístico sobre la Prueba de tolerancia a la glucosa"
   ]
  },
  {
   "cell_type": "markdown",
   "id": "62284555-a079-4b13-b160-a499d6fe65c9",
   "metadata": {},
   "source": [
    "La **prueba de tolerancia a la glucosa**, también conocida como «examen de tolerancia oral a la glucosa», mide la respuesta del cuerpo al azúcar (glucosa). Esta prueba se puede usar como prueba de detección para la diabetes de tipo 2. En el departamento de investigación de un hospital se está realizando un estudio para conocer si la tolerancia a la glucosa en pacientes sanos tiende a decrecer a medida que la edad de la persona aumenta, es decir tarda más tiempo en desaparecer en nuestro organismo conforme envejecemos. Para obtener las conclusiones del estudio se suministra una dosis de glucosa, en forma de un preparado via oral, a dos muestras de pacientes sanos escogidos al azar, jóvenes (edad menor de 30) y otros adultos (edad superior a 30). Consideraremos estas muestras independientes.\n",
    "\n",
    "El test consistió en realizar la medición de glucosa en sangre en el momento de la toma (nivel basal ) de 100 gramos de glucosa y a los 60 minutos de la toma. Los resultados se muestran en el Excel. En la primera columna se representa con 1 a los pacientes cuyo rango de edad es menor que 30 (jóvenes) y con 2 a los pacientes cuyo rango de edad es mayor que 30, en la segunda columna la concentración en sangre en el momento de la toma (nivel basal, en mg/Dl) y en la tercera columna la concentración de glucosa pasada una hora de la ingesta de la pastilla en mg/Dl"
   ]
  },
  {
   "cell_type": "markdown",
   "id": "79639a92-fc87-4e17-bcb2-2180d5f8815d",
   "metadata": {},
   "source": [
    "### Instalación y carga de librerías"
   ]
  },
  {
   "cell_type": "markdown",
   "id": "c70833cb-49c8-4d81-826f-57449aa9308f",
   "metadata": {},
   "source": [
    "Para realizar los ejercicios, primero instalaré y cargaré todas las **librerías de R** necesarias para esta tarea:"
   ]
  },
  {
   "cell_type": "code",
   "execution_count": null,
   "id": "9fe37c8d-0165-4855-b6f3-54d938e70c0c",
   "metadata": {},
   "outputs": [],
   "source": [
    "install.packages(\"readxl\")\n",
    "install.packages(\"dplyr\")\n",
    "install.packages(\"modeest\")\n",
    "install.packages(\"ggplot2\")\n",
    "install.packages(\"moments\")"
   ]
  },
  {
   "cell_type": "markdown",
   "id": "dff0587a-5929-470d-bb4f-909ba930f752",
   "metadata": {},
   "source": [
    "- `readxl` : esta librería permite importar datos desde un archivo Excel. Nos permite cargar nuestro conjunto de datos de forma rápida y eficiente en el entorno R.\n",
    "- `dplyr` : esta librería facilita la manipulación y transformación de los datos de forma eficiente y legible.\n",
    "- `modest` : esta librería proporciona herramientas para calcular y analizar la moda estadística.\n",
    "- `ggplot2` : esta librería crea visualizaciones gráficas de alta calidad que permiten explorar y comunicar los resultados.\n",
    "- `moments` : esta librería permite calcular medidas estadísticas relacionadas con la forma de una distribución, como la asimetría (skewness) y la curtosis."
   ]
  },
  {
   "cell_type": "code",
   "execution_count": 120,
   "id": "01a8a721-0eea-4e68-9e18-545ce33ec324",
   "metadata": {},
   "outputs": [],
   "source": [
    "library(readxl)"
   ]
  },
  {
   "cell_type": "code",
   "execution_count": null,
   "id": "39da1303-910a-4b94-8ef3-0f62d86d5b84",
   "metadata": {},
   "outputs": [],
   "source": [
    "library(dplyr)"
   ]
  },
  {
   "cell_type": "code",
   "execution_count": 122,
   "id": "1296ebf3-da2d-4738-bf41-5d6ca9a0c55a",
   "metadata": {},
   "outputs": [],
   "source": [
    "library(modeest)"
   ]
  },
  {
   "cell_type": "code",
   "execution_count": 123,
   "id": "f4240722-deb9-4b72-be53-c12c733026ae",
   "metadata": {},
   "outputs": [],
   "source": [
    "library(ggplot2) "
   ]
  },
  {
   "cell_type": "code",
   "execution_count": 124,
   "id": "5a759a38-e0bf-4aa3-b8fb-26d90bf0888b",
   "metadata": {},
   "outputs": [],
   "source": [
    "library(moments) "
   ]
  },
  {
   "cell_type": "markdown",
   "id": "4aad0af2-3569-4b26-b99d-e9d6b5efd1f0",
   "metadata": {},
   "source": [
    "### Carga del dataset"
   ]
  },
  {
   "cell_type": "markdown",
   "id": "a1f1bf3d-1fe2-446e-9a87-8ce9851d9702",
   "metadata": {},
   "source": [
    "A continuación, pasaré a cargar nuestro **dataset** para empezar a trabajar con él:"
   ]
  },
  {
   "cell_type": "code",
   "execution_count": 125,
   "id": "b4d4d147-e565-4317-a82b-789927633c8e",
   "metadata": {},
   "outputs": [],
   "source": [
    "test_glucosa <- read_xlsx(path = \"EVALMASTER.xlsx\")"
   ]
  },
  {
   "cell_type": "markdown",
   "id": "f99e0fe2-a9f6-4523-a56c-ab1d3d4eed94",
   "metadata": {},
   "source": [
    "### Análisis descriptivo de los datos"
   ]
  },
  {
   "cell_type": "markdown",
   "id": "47f08635-1537-4f08-b33c-762b9017ccb0",
   "metadata": {},
   "source": [
    "Antes de comenzar con el primer ejercicio, voy a realizar un **Análisis descriptivo de los datos** para comprender bien el **dataset** con el que estoy trabajando:"
   ]
  },
  {
   "cell_type": "code",
   "execution_count": 126,
   "id": "e4e60723-d6b1-41e4-b51e-cf8ccd6852da",
   "metadata": {},
   "outputs": [
    {
     "name": "stdout",
     "output_type": "stream",
     "text": [
      "tibble [65 × 3] (S3: tbl_df/tbl/data.frame)\n",
      " $ Grupo de control    : num [1:65] 1 1 1 1 1 1 1 1 1 1 ...\n",
      " $ Nivel glucosa basal : num [1:65] 90 82 80 75 74 97 103 76 65 89 ...\n",
      " $ Nivel glucosa 60 min: num [1:65] 159 151 148 138 141 157 172 150 131 156 ...\n"
     ]
    }
   ],
   "source": [
    "str(test_glucosa)"
   ]
  },
  {
   "cell_type": "markdown",
   "id": "91c8441d-b44e-4e26-b370-b5c96e0df263",
   "metadata": {},
   "source": [
    "Podemos ver que el **dataset** consta de **65 observaciones y 3 variables** (65 filas y 3 columnas).\n",
    "- Variable `Grupo de control` : de tipo numérico. Representa con **1** a los pacientes cuyo rango de edad es menor que 30 (jóvenes) y con **2** a los pacientes cuyo rango de edad es mayor que 30.\n",
    "- Variable `Nivel glucosa basal`: de tipo numérico. Representa la concentración en sangre en el momento de la toma (nivel basal, en mg/Dl).\n",
    "- Variable `Nivel glucosa 60 min`: de tipo numérico. Representa la concentración de glucosa pasada una hora de la ingesta de la pastilla (en mg/Dl)."
   ]
  },
  {
   "cell_type": "markdown",
   "id": "79705105-a425-487b-93fd-b176cfcfd4cd",
   "metadata": {},
   "source": [
    "También voy a mostrar las **6 primeras y últimas filas** del **dataset** para tener una visión más completa de los datos:"
   ]
  },
  {
   "cell_type": "code",
   "execution_count": 127,
   "id": "101d421b-0701-49f9-b0a4-c7b22b567491",
   "metadata": {},
   "outputs": [
    {
     "data": {
      "text/html": [
       "<table class=\"dataframe\">\n",
       "<caption>A tibble: 6 × 3</caption>\n",
       "<thead>\n",
       "\t<tr><th scope=col>Grupo de control</th><th scope=col>Nivel glucosa basal</th><th scope=col>Nivel glucosa 60 min</th></tr>\n",
       "\t<tr><th scope=col>&lt;dbl&gt;</th><th scope=col>&lt;dbl&gt;</th><th scope=col>&lt;dbl&gt;</th></tr>\n",
       "</thead>\n",
       "<tbody>\n",
       "\t<tr><td>1</td><td>90</td><td>159</td></tr>\n",
       "\t<tr><td>1</td><td>82</td><td>151</td></tr>\n",
       "\t<tr><td>1</td><td>80</td><td>148</td></tr>\n",
       "\t<tr><td>1</td><td>75</td><td>138</td></tr>\n",
       "\t<tr><td>1</td><td>74</td><td>141</td></tr>\n",
       "\t<tr><td>1</td><td>97</td><td>157</td></tr>\n",
       "</tbody>\n",
       "</table>\n"
      ],
      "text/latex": [
       "A tibble: 6 × 3\n",
       "\\begin{tabular}{lll}\n",
       " Grupo de control & Nivel glucosa basal & Nivel glucosa 60 min\\\\\n",
       " <dbl> & <dbl> & <dbl>\\\\\n",
       "\\hline\n",
       "\t 1 & 90 & 159\\\\\n",
       "\t 1 & 82 & 151\\\\\n",
       "\t 1 & 80 & 148\\\\\n",
       "\t 1 & 75 & 138\\\\\n",
       "\t 1 & 74 & 141\\\\\n",
       "\t 1 & 97 & 157\\\\\n",
       "\\end{tabular}\n"
      ],
      "text/markdown": [
       "\n",
       "A tibble: 6 × 3\n",
       "\n",
       "| Grupo de control &lt;dbl&gt; | Nivel glucosa basal &lt;dbl&gt; | Nivel glucosa 60 min &lt;dbl&gt; |\n",
       "|---|---|---|\n",
       "| 1 | 90 | 159 |\n",
       "| 1 | 82 | 151 |\n",
       "| 1 | 80 | 148 |\n",
       "| 1 | 75 | 138 |\n",
       "| 1 | 74 | 141 |\n",
       "| 1 | 97 | 157 |\n",
       "\n"
      ],
      "text/plain": [
       "  Grupo de control Nivel glucosa basal Nivel glucosa 60 min\n",
       "1 1                90                  159                 \n",
       "2 1                82                  151                 \n",
       "3 1                80                  148                 \n",
       "4 1                75                  138                 \n",
       "5 1                74                  141                 \n",
       "6 1                97                  157                 "
      ]
     },
     "metadata": {},
     "output_type": "display_data"
    }
   ],
   "source": [
    "head(test_glucosa)"
   ]
  },
  {
   "cell_type": "code",
   "execution_count": 128,
   "id": "95e9bc6b-e610-4ad6-82ef-7e475c9664bc",
   "metadata": {},
   "outputs": [
    {
     "data": {
      "text/html": [
       "<table class=\"dataframe\">\n",
       "<caption>A tibble: 6 × 3</caption>\n",
       "<thead>\n",
       "\t<tr><th scope=col>Grupo de control</th><th scope=col>Nivel glucosa basal</th><th scope=col>Nivel glucosa 60 min</th></tr>\n",
       "\t<tr><th scope=col>&lt;dbl&gt;</th><th scope=col>&lt;dbl&gt;</th><th scope=col>&lt;dbl&gt;</th></tr>\n",
       "</thead>\n",
       "<tbody>\n",
       "\t<tr><td>2</td><td>91</td><td>172</td></tr>\n",
       "\t<tr><td>2</td><td>95</td><td>169</td></tr>\n",
       "\t<tr><td>2</td><td>99</td><td>172</td></tr>\n",
       "\t<tr><td>2</td><td>88</td><td>173</td></tr>\n",
       "\t<tr><td>2</td><td>84</td><td>188</td></tr>\n",
       "\t<tr><td>2</td><td>92</td><td>160</td></tr>\n",
       "</tbody>\n",
       "</table>\n"
      ],
      "text/latex": [
       "A tibble: 6 × 3\n",
       "\\begin{tabular}{lll}\n",
       " Grupo de control & Nivel glucosa basal & Nivel glucosa 60 min\\\\\n",
       " <dbl> & <dbl> & <dbl>\\\\\n",
       "\\hline\n",
       "\t 2 & 91 & 172\\\\\n",
       "\t 2 & 95 & 169\\\\\n",
       "\t 2 & 99 & 172\\\\\n",
       "\t 2 & 88 & 173\\\\\n",
       "\t 2 & 84 & 188\\\\\n",
       "\t 2 & 92 & 160\\\\\n",
       "\\end{tabular}\n"
      ],
      "text/markdown": [
       "\n",
       "A tibble: 6 × 3\n",
       "\n",
       "| Grupo de control &lt;dbl&gt; | Nivel glucosa basal &lt;dbl&gt; | Nivel glucosa 60 min &lt;dbl&gt; |\n",
       "|---|---|---|\n",
       "| 2 | 91 | 172 |\n",
       "| 2 | 95 | 169 |\n",
       "| 2 | 99 | 172 |\n",
       "| 2 | 88 | 173 |\n",
       "| 2 | 84 | 188 |\n",
       "| 2 | 92 | 160 |\n",
       "\n"
      ],
      "text/plain": [
       "  Grupo de control Nivel glucosa basal Nivel glucosa 60 min\n",
       "1 2                91                  172                 \n",
       "2 2                95                  169                 \n",
       "3 2                99                  172                 \n",
       "4 2                88                  173                 \n",
       "5 2                84                  188                 \n",
       "6 2                92                  160                 "
      ]
     },
     "metadata": {},
     "output_type": "display_data"
    }
   ],
   "source": [
    "tail(test_glucosa)"
   ]
  },
  {
   "cell_type": "markdown",
   "id": "6aa24e81-951e-4a97-b8d6-e60bca3c6abd",
   "metadata": {},
   "source": [
    "---"
   ]
  },
  {
   "cell_type": "markdown",
   "id": "e411aa44-0053-4405-be8b-602d6a51d4ed",
   "metadata": {},
   "source": [
    "## Ejercicio 1"
   ]
  },
  {
   "cell_type": "markdown",
   "id": "233cdcff-59e2-4db1-82b6-4767043697ba",
   "metadata": {},
   "source": [
    "Una vez tengo clara la estructura, la cantidad, y el tipo de datos con los que trabajaré. Voy a comenzar a realizar el **Ejercicio 1**:"
   ]
  },
  {
   "cell_type": "markdown",
   "id": "a2cdf768-55b5-49ec-982b-ad847e95cb69",
   "metadata": {},
   "source": [
    "### a) Obtener, usando algún programa estadístico, las medidas de centralización y dispersión para cada uno de los dos grupos de control para el nivel de glucosa basal, especificando para cada uno de los casos si la media es o no representativa"
   ]
  },
  {
   "cell_type": "markdown",
   "id": "b0de5ad0-41fd-40c1-ba93-5ed6a2c7ee31",
   "metadata": {},
   "source": [
    "#### Grupo 1 (Jóvenes)"
   ]
  },
  {
   "cell_type": "markdown",
   "id": "be2e25d2-b653-45a3-9c1c-5f5f9b648b85",
   "metadata": {},
   "source": [
    "##### Medidas de centralización:"
   ]
  },
  {
   "cell_type": "code",
   "execution_count": 129,
   "id": "f71171e4-f1ce-487b-99f8-ebd9fdeef989",
   "metadata": {},
   "outputs": [
    {
     "data": {
      "text/html": [
       "84.6857142857143"
      ],
      "text/latex": [
       "84.6857142857143"
      ],
      "text/markdown": [
       "84.6857142857143"
      ],
      "text/plain": [
       "[1] 84.68571"
      ]
     },
     "metadata": {},
     "output_type": "display_data"
    }
   ],
   "source": [
    "mean(test_glucosa$`Nivel glucosa basal`[test_glucosa$`Grupo de control` == 1])"
   ]
  },
  {
   "cell_type": "markdown",
   "id": "97be1f49-1e01-41bd-a9ec-01f827819fc8",
   "metadata": {},
   "source": [
    "Como se observa, el promedio general de los datos (`media aritmética`) es de aproximadamente **84,69 mg/Dl**."
   ]
  },
  {
   "cell_type": "code",
   "execution_count": 130,
   "id": "db6b8b83-c50c-4d4d-af36-236418284a46",
   "metadata": {},
   "outputs": [
    {
     "data": {
      "text/html": [
       "82"
      ],
      "text/latex": [
       "82"
      ],
      "text/markdown": [
       "82"
      ],
      "text/plain": [
       "[1] 82"
      ]
     },
     "metadata": {},
     "output_type": "display_data"
    }
   ],
   "source": [
    "median(test_glucosa$`Nivel glucosa basal`[test_glucosa$`Grupo de control` == 1])"
   ]
  },
  {
   "cell_type": "markdown",
   "id": "110b95e4-83a7-4d36-a7a5-8d3dc9f8bf94",
   "metadata": {},
   "source": [
    "Por otro lado, el valor central cuando los datos están ordenados (`mediana (segundo cuartil)`) es **82 mg/Dl**."
   ]
  },
  {
   "cell_type": "code",
   "execution_count": 131,
   "id": "fae1786f-cd7d-4751-bc9f-10fb3bc6ef59",
   "metadata": {},
   "outputs": [
    {
     "data": {
      "text/html": [
       "<style>\n",
       ".list-inline {list-style: none; margin:0; padding: 0}\n",
       ".list-inline>li {display: inline-block}\n",
       ".list-inline>li:not(:last-child)::after {content: \"\\00b7\"; padding: 0 .5ex}\n",
       "</style>\n",
       "<ol class=list-inline><li>75</li><li>79</li><li>82</li><li>90</li></ol>\n"
      ],
      "text/latex": [
       "\\begin{enumerate*}\n",
       "\\item 75\n",
       "\\item 79\n",
       "\\item 82\n",
       "\\item 90\n",
       "\\end{enumerate*}\n"
      ],
      "text/markdown": [
       "1. 75\n",
       "2. 79\n",
       "3. 82\n",
       "4. 90\n",
       "\n",
       "\n"
      ],
      "text/plain": [
       "[1] 75 79 82 90"
      ]
     },
     "metadata": {},
     "output_type": "display_data"
    }
   ],
   "source": [
    "mfv(test_glucosa$`Nivel glucosa basal`[test_glucosa$`Grupo de control` == 1])"
   ]
  },
  {
   "cell_type": "markdown",
   "id": "3cd0857e-cab8-45e7-aa25-c778e49ce35b",
   "metadata": {},
   "source": [
    "Por su parte, el valor que ocurre con más frecuencia (`moda`) es de **75**, **79**, **82** y **90 mg/Dl**. Esto nos indica que se trata de un conjunto de datos **multimodal**, en concreto; **tetramodal**."
   ]
  },
  {
   "cell_type": "markdown",
   "id": "4fb57e9c-aad2-4db1-b4c8-d3a9d84ee976",
   "metadata": {},
   "source": [
    "**Conclusiones**\n",
    "\n",
    "La media (**84.69**) es mayor que la mediana (**82**), lo que sugiere que la distribución está sesgada positivamente (hacia la derecha). Es decir, hay valores altos que están \"tirando\" la media hacia arriba. Además, que haya cuatro modas (**75, 79, 82 y 90**), y tan alejada la más baja de la más alta, indica que los valores de glucosa están bastante dispersos, lo que puede estar relacionado con diferencias de edad dentro de los jóvenes, metabolismo, u otros factores."
   ]
  },
  {
   "cell_type": "markdown",
   "id": "c8ec849e-cb98-43ad-b915-ea9f3c87a0b6",
   "metadata": {},
   "source": [
    "##### Medidas de dispersión:"
   ]
  },
  {
   "cell_type": "code",
   "execution_count": 132,
   "id": "6d0c6127-89c0-4458-be24-c806bd97924e",
   "metadata": {},
   "outputs": [
    {
     "data": {
      "text/plain": [
       "   Min. 1st Qu.  Median    Mean 3rd Qu.    Max. \n",
       "  65.00   78.50   82.00   84.69   90.50  103.00 "
      ]
     },
     "metadata": {},
     "output_type": "display_data"
    }
   ],
   "source": [
    "summary(test_glucosa$`Nivel glucosa basal`[test_glucosa$`Grupo de control` == 1])"
   ]
  },
  {
   "cell_type": "code",
   "execution_count": 133,
   "id": "6432229a-e2e2-4d11-ab22-92a82bdccff0",
   "metadata": {},
   "outputs": [
    {
     "data": {
      "text/html": [
       "38"
      ],
      "text/latex": [
       "38"
      ],
      "text/markdown": [
       "38"
      ],
      "text/plain": [
       "[1] 38"
      ]
     },
     "metadata": {},
     "output_type": "display_data"
    }
   ],
   "source": [
    "diff(range(test_glucosa$`Nivel glucosa basal`[test_glucosa$`Grupo de control` == 1]))"
   ]
  },
  {
   "cell_type": "markdown",
   "id": "724e3a4b-abd5-4db9-b063-18e0b4b3e4ce",
   "metadata": {},
   "source": [
    "En cuanto a las medidas de dispersión, el valor `mínimo` es **65 mg/Dl** y el valor `máximo` **103 mg/Dl**; lo que supone que el `rango` sea de **38 mg/Dl**.\n",
    "\n",
    "Por su parte, el `primer cuartil (Q1)` es **78,50 mg/Dl** y el `tercer cuartil (Q3)` **90,50 mg/Dl**. Esto significa que el 25% de los valores está por debajo de **78,50** y que el 25% superior está por encima de **90,50**."
   ]
  },
  {
   "cell_type": "code",
   "execution_count": 134,
   "id": "7cdd26e8-0706-498f-b6f6-cfe82162d671",
   "metadata": {},
   "outputs": [
    {
     "data": {
      "text/html": [
       "12"
      ],
      "text/latex": [
       "12"
      ],
      "text/markdown": [
       "12"
      ],
      "text/plain": [
       "[1] 12"
      ]
     },
     "metadata": {},
     "output_type": "display_data"
    }
   ],
   "source": [
    "IQR(test_glucosa$`Nivel glucosa basal`[test_glucosa$`Grupo de control` == 1])"
   ]
  },
  {
   "cell_type": "markdown",
   "id": "45ab5dea-5b7b-4206-8fb1-c3a585c366b1",
   "metadata": {},
   "source": [
    "Respecto al `rango intercuartílico (IQR)`, el 50% central de los datos tiene una dispersión bastante baja (solo **12 mg/Dl** de diferencia)."
   ]
  },
  {
   "cell_type": "code",
   "execution_count": 135,
   "id": "069ae103-c0ab-47eb-9349-df5430c7af52",
   "metadata": {},
   "outputs": [
    {
     "data": {
      "text/html": [
       "8.84431166001605"
      ],
      "text/latex": [
       "8.84431166001605"
      ],
      "text/markdown": [
       "8.84431166001605"
      ],
      "text/plain": [
       "[1] 8.844312"
      ]
     },
     "metadata": {},
     "output_type": "display_data"
    }
   ],
   "source": [
    "sd(test_glucosa$`Nivel glucosa basal`[test_glucosa$`Grupo de control` == 1])"
   ]
  },
  {
   "cell_type": "markdown",
   "id": "3fab2e89-bdc1-4a40-8cd2-de73acfae3b1",
   "metadata": {},
   "source": [
    "La `desviación típica` del nivel de glucosa basal de los jóvenes es de aproximadamente **8,84**, por lo que podemos decir que los datos están moderadamente agrupados alrededor de la media."
   ]
  },
  {
   "cell_type": "code",
   "execution_count": 136,
   "id": "793bbdaf-c122-4f7a-bd05-923a97e03c48",
   "metadata": {},
   "outputs": [
    {
     "data": {
      "text/html": [
       "78.2218487394958"
      ],
      "text/latex": [
       "78.2218487394958"
      ],
      "text/markdown": [
       "78.2218487394958"
      ],
      "text/plain": [
       "[1] 78.22185"
      ]
     },
     "metadata": {},
     "output_type": "display_data"
    }
   ],
   "source": [
    "var(test_glucosa$`Nivel glucosa basal`[test_glucosa$`Grupo de control` == 1])"
   ]
  },
  {
   "cell_type": "markdown",
   "id": "1924c082-6ae4-4ab1-bcfc-cba0392ce55c",
   "metadata": {},
   "source": [
    "Una `varianza` del **78,22** reafirma que los datos están distribuidos de forma consistente, aunque no extremadamente concentrados."
   ]
  },
  {
   "cell_type": "code",
   "execution_count": 137,
   "id": "6a75f7a6-0dc1-4329-b6cc-01ea6ed968d4",
   "metadata": {},
   "outputs": [
    {
     "name": "stdout",
     "output_type": "stream",
     "text": [
      "\n",
      "  The decimal point is 1 digit(s) to the right of the |\n",
      "\n",
      "   6 | 5\n",
      "   7 | 4\n",
      "   7 | 5556678999\n",
      "   8 | 0112223\n",
      "   8 | 5699\n",
      "   9 | 0001234\n",
      "   9 | 779\n",
      "  10 | 03\n",
      "\n"
     ]
    }
   ],
   "source": [
    "stem(test_glucosa$`Nivel glucosa basal`[test_glucosa$`Grupo de control` == 1])"
   ]
  },
  {
   "cell_type": "markdown",
   "id": "e0942303-4fac-4a15-ac7b-e0ed74f41401",
   "metadata": {},
   "source": [
    "En el `diagrama de tallo y hojas` se comprueba que los datos están distribuidos en un rango de **65** a **103**. Además, el grueso de valores se encuentra en los tallos de **8** y **9**; reafirmando la mediana **82** y la media **84,69**. Por último, la escasez de valores en los extremos **6** y **10** sugiere que no hay atípicos significativos."
   ]
  },
  {
   "cell_type": "code",
   "execution_count": 138,
   "id": "794f524b-8820-4b31-b8c7-b533406b3b39",
   "metadata": {},
   "outputs": [
    {
     "data": {
      "image/png": "[encoded data removed]",
      "text/plain": [
       "plot without title"
      ]
     },
     "metadata": {
      "image/png": {
       "height": 420,
       "width": 420
      }
     },
     "output_type": "display_data"
    }
   ],
   "source": [
    "test_glucosa_basal1 <- test_glucosa[test_glucosa$`Grupo de control` == 1, ]\n",
    "\n",
    "\n",
    "ggplot(data = test_glucosa_basal1, aes(x = `Nivel glucosa basal`)) +\n",
    "  geom_histogram(\n",
    "    binwidth = 8,  \n",
    "    fill = \"aquamarine2\",\n",
    "    color = \"black\"\n",
    "  ) +\n",
    "  labs(\n",
    "    title = \"Nivel de glucosa basal en adultos\",\n",
    "    x = \"Nivel de glucosa basal (mg/Dl)\",\n",
    "    y = \"Frecuencia\"\n",
    "  ) +\n",
    "  theme_minimal()       "
   ]
  },
  {
   "cell_type": "markdown",
   "id": "02a58029-c871-4088-bbdb-d41334688167",
   "metadata": {},
   "source": [
    "Por su parte, el `histograma` muestra una forma cercana a una **distribución normal** con un leve sesgo positivo (hacia la derecha), lo que confirma lo que comentaba antes.\n",
    "También, hay una alta frecuencia de valores en el rango **78-90** que coincide con el rango intercuartil calculado (IQR).\n",
    "Hay pocas observaciones en los extremos (por debajo de **70** y por encima de **100**);  indicando una dispersión baja en general."
   ]
  },
  {
   "cell_type": "code",
   "execution_count": 139,
   "id": "16743880-d7f5-4eec-b40b-fcdf4ec8f9fe",
   "metadata": {},
   "outputs": [
    {
     "data": {
      "text/html": [
       "0.104436878576438"
      ],
      "text/latex": [
       "0.104436878576438"
      ],
      "text/markdown": [
       "0.104436878576438"
      ],
      "text/plain": [
       "[1] 0.1044369"
      ]
     },
     "metadata": {},
     "output_type": "display_data"
    }
   ],
   "source": [
    "((sd(test_glucosa$`Nivel glucosa basal`[test_glucosa$`Grupo de control` == 1])) / (mean(test_glucosa$`Nivel glucosa basal`[test_glucosa$`Grupo de control` == 1])))"
   ]
  },
  {
   "cell_type": "markdown",
   "id": "c5d8217f-bb6b-40ce-a744-eef858a847e5",
   "metadata": {},
   "source": [
    "Por último, un `coeficiente de variación` del **10,44%** indica una baja variabilidad respecto a la media, por lo que podríamos decir que los datos son representativos y consistentes."
   ]
  },
  {
   "cell_type": "markdown",
   "id": "deb62bdd-6e4b-40da-aafa-bb0de1cec909",
   "metadata": {},
   "source": [
    "**Conclusiones**\n",
    "\n",
    "La baja dispersión de los datos respalda que las conclusiones basadas en estos valores son confiables y que el grupo de jóvenes tiene niveles basales relativamente homogéneos. Esto refuerza que cualquier comparación con el grupo de los adultos puede atribuirse a diferencias reales y no a una alta variabilidad dentro del grupo joven."
   ]
  },
  {
   "cell_type": "markdown",
   "id": "8ea4e95e-050a-40eb-a08e-966ec02a92ea",
   "metadata": {},
   "source": [
    "#### Grupo 2 (Adultos)"
   ]
  },
  {
   "cell_type": "markdown",
   "id": "8227cab9-fdc1-4b2d-8b58-9217b00ec2bc",
   "metadata": {},
   "source": [
    "##### Medidas de centralización:"
   ]
  },
  {
   "cell_type": "code",
   "execution_count": 140,
   "id": "f6d5498b-1dcb-4a51-b240-c0228aae51e6",
   "metadata": {},
   "outputs": [
    {
     "data": {
      "text/html": [
       "89.4"
      ],
      "text/latex": [
       "89.4"
      ],
      "text/markdown": [
       "89.4"
      ],
      "text/plain": [
       "[1] 89.4"
      ]
     },
     "metadata": {},
     "output_type": "display_data"
    }
   ],
   "source": [
    "mean(test_glucosa$`Nivel glucosa basal`[test_glucosa$`Grupo de control` == 2])"
   ]
  },
  {
   "cell_type": "markdown",
   "id": "7b99bcf8-efac-47b0-8867-6f550cde7985",
   "metadata": {},
   "source": [
    "En este caso, el promedio general de los datos (`media aritmética`) es de **89,4 mg/Dl**."
   ]
  },
  {
   "cell_type": "code",
   "execution_count": 141,
   "id": "665586e3-6f13-4449-90b4-084b1124f48f",
   "metadata": {},
   "outputs": [
    {
     "data": {
      "text/html": [
       "90"
      ],
      "text/latex": [
       "90"
      ],
      "text/markdown": [
       "90"
      ],
      "text/plain": [
       "[1] 90"
      ]
     },
     "metadata": {},
     "output_type": "display_data"
    }
   ],
   "source": [
    "median(test_glucosa$`Nivel glucosa basal`[test_glucosa$`Grupo de control` == 2])"
   ]
  },
  {
   "cell_type": "markdown",
   "id": "c134f367-c606-4001-b53a-4cda9a5327d0",
   "metadata": {},
   "source": [
    "En este grupo, el valor central cuando los datos están ordenados (`mediana (segundo cuartil)`) es **90 mg/Dl**."
   ]
  },
  {
   "cell_type": "code",
   "execution_count": 142,
   "id": "b0081bda-1821-41b2-92b8-530e4fe90530",
   "metadata": {},
   "outputs": [
    {
     "data": {
      "text/html": [
       "88"
      ],
      "text/latex": [
       "88"
      ],
      "text/markdown": [
       "88"
      ],
      "text/plain": [
       "[1] 88"
      ]
     },
     "metadata": {},
     "output_type": "display_data"
    }
   ],
   "source": [
    "mfv(test_glucosa$`Nivel glucosa basal`[test_glucosa$`Grupo de control` == 2])"
   ]
  },
  {
   "cell_type": "markdown",
   "id": "257a62d3-05e3-4df5-a820-0240c355cf40",
   "metadata": {},
   "source": [
    "Aquí, el valor que ocurre con más frecuencia (`moda`) es de **80 mg/Dl**. Esto nos indica que se trata de un conjunto de datos **unimodal**."
   ]
  },
  {
   "cell_type": "markdown",
   "id": "87fd21ec-14e2-41ed-af93-d977415795ab",
   "metadata": {},
   "source": [
    "**Conclusiones**\n",
    "\n",
    "La media (**89.4**) y la mediana (**90**) están muy próximas, lo que sugiere que la distribución de los valores es aproximadamente simétrica. En general, los valores de la media, mediana y moda son muy cercanos entre sí, lo que indica que los datos para este grupo están menos dispersos en comparación con el grupo de jóvenes.\n"
   ]
  },
  {
   "cell_type": "markdown",
   "id": "c084b901-915d-470f-8059-c91e7a4981d7",
   "metadata": {},
   "source": [
    "##### Medidas de dispersión:"
   ]
  },
  {
   "cell_type": "code",
   "execution_count": 143,
   "id": "2d4bc276-1e28-4ec8-abe4-895a1adf350a",
   "metadata": {},
   "outputs": [
    {
     "data": {
      "text/plain": [
       "   Min. 1st Qu.  Median    Mean 3rd Qu.    Max. \n",
       "   77.0    84.5    90.0    89.4    94.0   104.0 "
      ]
     },
     "metadata": {},
     "output_type": "display_data"
    }
   ],
   "source": [
    "summary(test_glucosa$`Nivel glucosa basal`[test_glucosa$`Grupo de control` == 2])"
   ]
  },
  {
   "cell_type": "code",
   "execution_count": 144,
   "id": "4a81b04c-a8c9-4729-b2d9-a25ff309c76f",
   "metadata": {},
   "outputs": [
    {
     "data": {
      "text/html": [
       "27"
      ],
      "text/latex": [
       "27"
      ],
      "text/markdown": [
       "27"
      ],
      "text/plain": [
       "[1] 27"
      ]
     },
     "metadata": {},
     "output_type": "display_data"
    }
   ],
   "source": [
    "diff(range(test_glucosa$`Nivel glucosa basal`[test_glucosa$`Grupo de control` == 2]))"
   ]
  },
  {
   "cell_type": "markdown",
   "id": "fe6d2093-1352-4c98-8907-8dd5012bda1a",
   "metadata": {},
   "source": [
    "Las medidas de dispersión en adultos indican un valor `mínimo` de **77 mg/Dl** y un valor `máximo` de **104 mg/Dl**; siendo así el `rango` **27 mg/Dl**. Destaca que, en comparación con los jóvenes, tienen un punto de partida de glucosa ligeramente más elevado, además de que el menor rango supone datos menos dispersos.\n",
    "\n",
    "Por otro lado, el `primer cuartil (Q1)` es **84,5 mg/Dl** y el `tercer cuartil (Q3)` **94 mg/Dl**. Todo ello nos indica que el 25% inferior está por debajo de **84.5**, mientras que el 25% superior supera los **94**."
   ]
  },
  {
   "cell_type": "code",
   "execution_count": 145,
   "id": "0de75df0-706a-4f42-b4e5-143ea96920df",
   "metadata": {},
   "outputs": [
    {
     "data": {
      "text/html": [
       "9.5"
      ],
      "text/latex": [
       "9.5"
      ],
      "text/markdown": [
       "9.5"
      ],
      "text/plain": [
       "[1] 9.5"
      ]
     },
     "metadata": {},
     "output_type": "display_data"
    }
   ],
   "source": [
    "IQR(test_glucosa$`Nivel glucosa basal`[test_glucosa$`Grupo de control` == 2])"
   ]
  },
  {
   "cell_type": "markdown",
   "id": "c1ba7017-f0b1-476d-a410-c00aa55205c6",
   "metadata": {},
   "source": [
    "El `rango intercuartílico (IQR)` más bajo en adultos (**9,5** frente a **12** en jóvenes) señala que la mayoría de los datos están más concentrados alrededor de la mediana, con menor variabilidad."
   ]
  },
  {
   "cell_type": "code",
   "execution_count": 146,
   "id": "cd212155-e5fc-4b5a-84e3-4a3032e0ba8d",
   "metadata": {},
   "outputs": [
    {
     "data": {
      "text/html": [
       "7.34659198493447"
      ],
      "text/latex": [
       "7.34659198493447"
      ],
      "text/markdown": [
       "7.34659198493447"
      ],
      "text/plain": [
       "[1] 7.346592"
      ]
     },
     "metadata": {},
     "output_type": "display_data"
    }
   ],
   "source": [
    "sd(test_glucosa$`Nivel glucosa basal`[test_glucosa$`Grupo de control` == 2])"
   ]
  },
  {
   "cell_type": "markdown",
   "id": "91e4f03f-7b71-402c-8ac1-7e44baa560a0",
   "metadata": {},
   "source": [
    "La `desviación típica` alrededor de la media es de aproximadamente **7,34**. Con este resultado podemos decir que los datos están moderadamente agrupados (incluso más que en los jóvenes)."
   ]
  },
  {
   "cell_type": "code",
   "execution_count": 147,
   "id": "3444569b-18fd-47ff-8c10-21e4a1bf92a9",
   "metadata": {},
   "outputs": [
    {
     "data": {
      "text/html": [
       "53.9724137931034"
      ],
      "text/latex": [
       "53.9724137931034"
      ],
      "text/markdown": [
       "53.9724137931034"
      ],
      "text/plain": [
       "[1] 53.97241"
      ]
     },
     "metadata": {},
     "output_type": "display_data"
    }
   ],
   "source": [
    "var(test_glucosa$`Nivel glucosa basal`[test_glucosa$`Grupo de control` == 2])"
   ]
  },
  {
   "cell_type": "markdown",
   "id": "ef50b0d1-70df-446a-93cd-ca8be0289cef",
   "metadata": {},
   "source": [
    "La `varianza` del **53,97** es consistente con la desviación típica y reafirma la menor dispersión en los niveles basales de los adultos."
   ]
  },
  {
   "cell_type": "code",
   "execution_count": 148,
   "id": "6298b640-99d2-4d8c-a54d-1d0ecbb7036b",
   "metadata": {},
   "outputs": [
    {
     "name": "stdout",
     "output_type": "stream",
     "text": [
      "\n",
      "  The decimal point is 1 digit(s) to the right of the |\n",
      "\n",
      "   7 | 7799\n",
      "   8 | 0114\n",
      "   8 | 688889\n",
      "   9 | 000112344\n",
      "   9 | 5669\n",
      "  10 | 024\n",
      "\n"
     ]
    }
   ],
   "source": [
    "stem(test_glucosa$`Nivel glucosa basal`[test_glucosa$`Grupo de control` == 2])"
   ]
  },
  {
   "cell_type": "markdown",
   "id": "e576775e-a414-4edf-a5a9-c7963edf4f80",
   "metadata": {},
   "source": [
    "En el `diagrama de tallo y hojas` se comprueba que los datos están distribuidos en un rango de **77** a **104**. Asimismo, el grueso de valores se encuentra en los tallos de **8** y **9**; reafirmando la mediana **90** y la media **89,4**. En cuanto a los atípicos, no hay valores fuera del rango típico."
   ]
  },
  {
   "cell_type": "code",
   "execution_count": 149,
   "id": "3d3e6356-1b9e-4597-8bb6-d3c9ece03185",
   "metadata": {},
   "outputs": [
    {
     "data": {
      "image/png": "[encoded data removed]",
      "text/plain": [
       "plot without title"
      ]
     },
     "metadata": {
      "image/png": {
       "height": 420,
       "width": 420
      }
     },
     "output_type": "display_data"
    }
   ],
   "source": [
    "test_glucosa_basal2 <- test_glucosa[test_glucosa$`Grupo de control` == 2, ]\n",
    "\n",
    "ggplot(data = test_glucosa_basal2, aes(x = `Nivel glucosa basal`)) +\n",
    "  geom_histogram(\n",
    "    binwidth = 7,  \n",
    "    fill = \"darkorchid\",\n",
    "    color = \"black\"\n",
    "  ) +\n",
    "  labs(\n",
    "    title = \"Nivel de glucosa basal en adultos\",\n",
    "    x = \"Nivel de glucosa basal (mg/Dl)\",\n",
    "    y = \"Frecuencia\"\n",
    "  ) +\n",
    "  theme_minimal()"
   ]
  },
  {
   "cell_type": "markdown",
   "id": "9e1e44f6-065f-4c54-a5a6-f27741cd02bc",
   "metadata": {},
   "source": [
    "Pasando al `histograma`, se muestra también una **distribución normal cercana a la simetría**, con un pico en valores cercanos a **90 mg/Dl**.\n",
    "Además, las barras en los extremos (por debajo de **80** y por encima de **100**) tienen frecuencias bajas, ya que la mayoría de los datos están concentrados en el centro."
   ]
  },
  {
   "cell_type": "code",
   "execution_count": 150,
   "id": "107d7794-6d39-4643-8324-7573d348b3bd",
   "metadata": {},
   "outputs": [
    {
     "data": {
      "text/html": [
       "0.0821766441267838"
      ],
      "text/latex": [
       "0.0821766441267838"
      ],
      "text/markdown": [
       "0.0821766441267838"
      ],
      "text/plain": [
       "[1] 0.08217664"
      ]
     },
     "metadata": {},
     "output_type": "display_data"
    }
   ],
   "source": [
    "((sd(test_glucosa$`Nivel glucosa basal`[test_glucosa$`Grupo de control` == 2])) / (mean(test_glucosa$`Nivel glucosa basal`[test_glucosa$`Grupo de control` == 2])))"
   ]
  },
  {
   "cell_type": "markdown",
   "id": "680529f4-2097-422d-8489-3ee7662077ad",
   "metadata": {},
   "source": [
    "Para acabar, el `coeficiente de variación` del **8,22%** indica que la dispersión relativa de los datos respecto a la media es baja, y demuestra que los datos de los adultos son muy representativos y consistentes."
   ]
  },
  {
   "cell_type": "markdown",
   "id": "0bda4fc0-c787-4576-ad71-b09c3aaf144f",
   "metadata": {},
   "source": [
    "**Conclusiones**\n",
    "\n",
    "Los niveles basales de glucosa en adultos son menos dispersos que los de los jóvenes, por lo que podríamos decir que hay una mayor uniformidad en este grupo. No obstante, los valores de Q1, Q3, rango intercuartil, y rango total son más altos en adultos. Con un coeficiente de variación bajo (8,22%), los datos de este grupo son muy homogéneos y representativos, por lo que cualquier conclusión es estadísticamente sólida.\n",
    "Comparación con jóvenes: Mientras los jóvenes muestran una mayor variabilidad y niveles basales más bajos, los adultos tienen valores más elevados y uniformes, lo que podría estar relacionado con cambios metabólicos asociados a la edad."
   ]
  },
  {
   "cell_type": "markdown",
   "id": "5f95ff9d-0502-4292-b701-fc391188c6ea",
   "metadata": {},
   "source": [
    "### b) Estudiar la simetría y la curtosis del nivel de glucosa basal en los adultos (grupo de control 2))"
   ]
  },
  {
   "cell_type": "markdown",
   "id": "13d89bd3-dfa3-4732-968d-14e337e39d30",
   "metadata": {},
   "source": [
    "#### Simetría (Grupo 2)"
   ]
  },
  {
   "cell_type": "code",
   "execution_count": 151,
   "id": "6be33099-32d2-4bea-9c2d-2ec62de7ffd1",
   "metadata": {},
   "outputs": [
    {
     "data": {
      "text/html": [
       "-0.00709028311716347"
      ],
      "text/latex": [
       "-0.00709028311716347"
      ],
      "text/markdown": [
       "-0.00709028311716347"
      ],
      "text/plain": [
       "[1] -0.007090283"
      ]
     },
     "metadata": {},
     "output_type": "display_data"
    }
   ],
   "source": [
    "skewness(test_glucosa$`Nivel glucosa basal`[test_glucosa$`Grupo de control` == 2])"
   ]
  },
  {
   "cell_type": "markdown",
   "id": "49d9f482-c930-4274-a4ae-d52c79c66cc1",
   "metadata": {},
   "source": [
    "El valor aproximado **-0,0071** de la `simetría` se encuentra muy cercano a 0, lo que señala que la distribución es **prácticamente simétrica**. Esto es coherente con lo observado en el histograma y el diagrama de tallos y hojas, donde los datos se distribuyen uniformemente alrededor de la media."
   ]
  },
  {
   "cell_type": "markdown",
   "id": "87620bb4-8390-40c6-a24b-fabe5328fb6b",
   "metadata": {},
   "source": [
    "#### Curtosis (Grupo 2)"
   ]
  },
  {
   "cell_type": "code",
   "execution_count": 152,
   "id": "8b131dda-d1df-4e7f-af3e-fefdc7747c42",
   "metadata": {},
   "outputs": [
    {
     "data": {
      "text/html": [
       "-0.708755843375685"
      ],
      "text/latex": [
       "-0.708755843375685"
      ],
      "text/markdown": [
       "-0.708755843375685"
      ],
      "text/plain": [
       "[1] -0.7087558"
      ]
     },
     "metadata": {},
     "output_type": "display_data"
    }
   ],
   "source": [
    "kurtosis_glucosa <- kurtosis(test_glucosa$`Nivel glucosa basal`[test_glucosa$`Grupo de control` == 2])\n",
    "kurtosis_glucosa - 3"
   ]
  },
  {
   "cell_type": "markdown",
   "id": "8a8402ec-4778-442f-a79e-ceec36666446",
   "metadata": {},
   "source": [
    "El valor aproximado de **-0,7088** de la `curtosis` indica que la distribución es **platicúrtica**, lo que significa que es más plana en comparación con una distribución normal. Esto refleja que los valores están menos concentrados en las colas de la distribución y se encuentran más distribuidos de manera uniforme alrededor del rango intercuartil, con una menor presencia de valores extremos. En consecuencia, los datos presentan una menor tendencia hacia colas pronunciadas o valores atípicos significativos."
   ]
  },
  {
   "cell_type": "markdown",
   "id": "df5ec4dd-c6aa-4c52-abea-ff429f2be5b5",
   "metadata": {},
   "source": [
    "### c) Indicar para cada una de las variables de estudio (nivel glucosa basal y nivel glucosa pasados 60 min) y en el grupo de control 1 el valor de los cuartiles y su significado y obtener el box-plot (diagrama de cajas) correspondiente. Estudiar la presencia devalores atípicos"
   ]
  },
  {
   "cell_type": "markdown",
   "id": "abc57814-2191-4c43-b94c-5b31ef709698",
   "metadata": {},
   "source": [
    "#### Nivel de glucosa basal (Grupo 1)"
   ]
  },
  {
   "cell_type": "code",
   "execution_count": 153,
   "id": "7f14ebfa-30e9-4365-80af-7467951ad95d",
   "metadata": {},
   "outputs": [
    {
     "data": {
      "text/plain": [
       "   Min. 1st Qu.  Median    Mean 3rd Qu.    Max. \n",
       "  65.00   78.50   82.00   84.69   90.50  103.00 "
      ]
     },
     "metadata": {},
     "output_type": "display_data"
    }
   ],
   "source": [
    "summary(test_glucosa$\"Nivel glucosa basal\"[test_glucosa$\"Grupo de control\" == 1])"
   ]
  },
  {
   "cell_type": "markdown",
   "id": "90d180ca-cbcc-4b1a-bdc4-34543469ca53",
   "metadata": {},
   "source": [
    "Repasamos los valores que hemos obtenido en el apartado anterior:\n",
    "- `Q1`: el 25% de los jóvenes tiene un nivel basal de glucosa inferior a **78,50 mg/Dl**.\n",
    "- `Q2`: el 50% de los jóvenes tiene un nivel basal de glucosa inferior a **82 mg/Dl**. Esto representa el valor central de la distribución, indicando que la mitad de los datos están por encima y la otra mitad por debajo de este valor.\n",
    "- `Q3`: el 75% de los jóvenes tiene un nivel basal de glucosa inferior a **90,50 mg/Dl**. Es decir, el 25% superior tiene niveles mayores a este valor."
   ]
  },
  {
   "cell_type": "code",
   "execution_count": 154,
   "id": "61c953e8-76a2-4f53-8fb0-6ef900ca1537",
   "metadata": {},
   "outputs": [
    {
     "data": {
      "image/png": "[encoded data removed]",
      "text/plain": [
       "Plot with title \"Boxplot del nivel de glucosa basal de los jóvenes\""
      ]
     },
     "metadata": {
      "image/png": {
       "height": 420,
       "width": 420
      }
     },
     "output_type": "display_data"
    }
   ],
   "source": [
    "boxplot(test_glucosa$`Nivel glucosa basal`[test_glucosa$`Grupo de control` == 1],\n",
    "        main = \"Boxplot del nivel de glucosa basal de los jóvenes\",\n",
    "        ylab = \"Nivel de glucosa basal (mg/Dl)\",\n",
    "        col = \"orange\")"
   ]
  },
  {
   "cell_type": "markdown",
   "id": "d58fe5f0-87b3-4c54-8331-dbcafdd09d3c",
   "metadata": {},
   "source": [
    "A partir del `box-plot` generado, podemos observar que no existen puntos más allá de los bigotes, lo que significa que **no hay valores atípicos (outliers)**."
   ]
  },
  {
   "cell_type": "markdown",
   "id": "d7858170-dbbd-4110-9ad0-b964b8ac5725",
   "metadata": {},
   "source": [
    "#### Nivel de glucosa pasados 60 min (Grupo 1)"
   ]
  },
  {
   "cell_type": "code",
   "execution_count": 155,
   "id": "d96ddf6e-52ab-4df5-a4e8-121aa780731f",
   "metadata": {},
   "outputs": [
    {
     "data": {
      "text/plain": [
       "   Min. 1st Qu.  Median    Mean 3rd Qu.    Max. \n",
       "  131.0   146.5   150.0   150.4   154.5   172.0 "
      ]
     },
     "metadata": {},
     "output_type": "display_data"
    }
   ],
   "source": [
    "summary(test_glucosa$\"Nivel glucosa 60 min\"[test_glucosa$\"Grupo de control\" == 1])"
   ]
  },
  {
   "cell_type": "markdown",
   "id": "c71d6c5f-bc87-4875-9b7b-3fd025a61865",
   "metadata": {},
   "source": [
    "- `Q1`: el 25% de los jóvenes tiene un nivel de glucosa a los 60 minutos inferior a **146,50 mg/Dl**.\n",
    "- `Q2`: el 50% de los jóvenes tiene un nivel de glucosa a los 60 minutos inferior a **150 mg/Dl**. Esto representa el valor central de la distribución, indicando que la mitad de los datos están por encima y la otra mitad por debajo de este valor.\n",
    "- `Q3`: el 75% de los jóvenes tiene un nivel de glucosa a los 60 minutos inferior a **154,50 mg/Dl**. Es decir, el 25% superior tiene niveles mayores a este valor."
   ]
  },
  {
   "cell_type": "code",
   "execution_count": 156,
   "id": "0166b721-3955-4127-b276-c8de99b66f55",
   "metadata": {},
   "outputs": [
    {
     "data": {
      "image/png": "[encoded data removed]",
      "text/plain": [
       "Plot with title \"Boxplot del nivel de glucosa pasados 60 min. de los jóvenes\""
      ]
     },
     "metadata": {
      "image/png": {
       "height": 420,
       "width": 420
      }
     },
     "output_type": "display_data"
    }
   ],
   "source": [
    "boxplot(test_glucosa$`Nivel glucosa 60 min`[test_glucosa$`Grupo de control` == 1],\n",
    "        main = \"Boxplot del nivel de glucosa pasados 60 min. de los jóvenes\",\n",
    "        ylab = \"Nivel de glucosa basal (mg/Dl)\",\n",
    "        col = \"pink\")"
   ]
  },
  {
   "cell_type": "markdown",
   "id": "d4912e7c-6bb3-4fff-8255-b188d460aae2",
   "metadata": {},
   "source": [
    "Como se puede ver en el `box-plot`, existen **dos valores atípicos**: uno por encima del bigote superior (de aproximadamente **170 mg/Dl**) y otro por debajo del bigote inferior (de aproximadamente **130 mg/Dl**)."
   ]
  },
  {
   "cell_type": "markdown",
   "id": "e999a48f-8b2c-42e0-8451-220bcf30784a",
   "metadata": {},
   "source": [
    "### d) Estudiar la normalidad de los datos de cada uno de los grupos de control estudiados para el nivel de glucosa pasados 60 minutos"
   ]
  },
  {
   "cell_type": "markdown",
   "id": "90591385-1ae5-4d26-871e-26da853a4f57",
   "metadata": {},
   "source": [
    "#### Grupo 1 (Jóvenes)"
   ]
  },
  {
   "cell_type": "code",
   "execution_count": 157,
   "id": "e88a93aa-5b31-4cbe-8bc7-48b261a2e525",
   "metadata": {},
   "outputs": [
    {
     "data": {
      "image/png": "[encoded data removed]",
      "text/plain": [
       "Plot with title \"Q-Q Plot del nivel de glucosa pasados 60 min de los jóvenes)\""
      ]
     },
     "metadata": {
      "image/png": {
       "height": 420,
       "width": 420
      }
     },
     "output_type": "display_data"
    }
   ],
   "source": [
    "qqnorm(test_glucosa$`Nivel glucosa 60 min`[test_glucosa$`Grupo de control` == 1],\n",
    "       main = \"Q-Q Plot del nivel de glucosa pasados 60 min de los jóvenes)\")\n",
    "qqline(test_glucosa$`Nivel glucosa 60 min`[test_glucosa$`Grupo de control` == 1],\n",
    "       col = \"red\", lwd = 2)"
   ]
  },
  {
   "cell_type": "markdown",
   "id": "354fbbfe-17ac-41c5-be82-7927a3bc52b3",
   "metadata": {},
   "source": [
    "Creando un `Q-Q Plot` del nivel de glucosa pasados 60 minutos del grupo de jóvenes, podemos observar que la mayoría de los puntos se alinean bastante bien con la línea roja, que representa una distribución normal teórica. Si bien es cierto algunos puntos en los extremos se desvían ligeramente de la línea, pero el desvío no parece excesivo. En conclusión, el gráfico sugiere que los datos están aproximadamente **distribuidos de forma normal**, con solo ligeros desvíos en los extremos. Esto indica que los valores centrales se ajustan bien a la normalidad, mientras que los valores más altos o bajos podrían ser menos consistentes con una distribución normal."
   ]
  },
  {
   "cell_type": "code",
   "execution_count": 158,
   "id": "cda50b4b-e704-4645-aa01-e7beb8aba6bb",
   "metadata": {},
   "outputs": [
    {
     "data": {
      "text/plain": [
       "\n",
       "\tShapiro-Wilk normality test\n",
       "\n",
       "data:  test_glucosa$`Nivel glucosa 60 min`[test_glucosa$`Grupo de control` == 1]\n",
       "W = 0.96261, p-value = 0.2734\n"
      ]
     },
     "metadata": {},
     "output_type": "display_data"
    }
   ],
   "source": [
    "shapiro.test(test_glucosa$`Nivel glucosa 60 min`[test_glucosa$`Grupo de control` == 1])"
   ]
  },
  {
   "cell_type": "markdown",
   "id": "7328efd0-bbcb-4642-8a38-4eb36fb3ca4a",
   "metadata": {},
   "source": [
    "Para corroborar el Q-Q Plot, al realizar la `prueba de Shapiro-Wilk` se ve que como el **valor-p** (**0,2734**) es mayor a 0,05, por lo que no podemos rechazar la hipótesis nula de normalidad. Esto significa que los datos no presentan evidencia suficiente para considerarlos no normales."
   ]
  },
  {
   "cell_type": "code",
   "execution_count": 159,
   "id": "98b89275-6a75-44e5-85b6-514ee9d4bf22",
   "metadata": {},
   "outputs": [
    {
     "data": {
      "image/png": "[encoded data removed]",
      "text/plain": [
       "plot without title"
      ]
     },
     "metadata": {
      "image/png": {
       "height": 420,
       "width": 420
      }
     },
     "output_type": "display_data"
    }
   ],
   "source": [
    "test_glucosa_60min1 <- test_glucosa[test_glucosa$`Grupo de control` == 1, ]\n",
    "\n",
    "\n",
    "ggplot(data = test_glucosa_60min1, aes(x = `Nivel glucosa 60 min`)) +\n",
    "  geom_histogram(\n",
    "    binwidth = 7,  \n",
    "    fill = \"coral2\",\n",
    "    color = \"black\"\n",
    "  ) +\n",
    "  labs(\n",
    "    title = \"Nivel de glucosa pasado 60 min en adultos\",\n",
    "    x = \"Nivel de glucosa (mg/Dl)\",\n",
    "    y = \"Frecuencia\"\n",
    "  ) +\n",
    "  theme_minimal() "
   ]
  },
  {
   "cell_type": "markdown",
   "id": "0bb328c4-90f0-4b3f-9ecb-bf206d43041b",
   "metadata": {},
   "source": [
    "Por último, el `histograma` muestra una forma cercana a una **distribución normal**, con una concentración clara en el rango de **150 mg/Dl**. Este hallazgo es consistente con los resultados del Q-Q Plot y la prueba de Shapiro-Wilk."
   ]
  },
  {
   "cell_type": "markdown",
   "id": "9378cbd0-e39e-4742-ad09-f7d441f70ed3",
   "metadata": {},
   "source": [
    "#### Grupo 2 (Adultos)"
   ]
  },
  {
   "cell_type": "code",
   "execution_count": 160,
   "id": "f0825be6-8a07-4b5e-b983-5ba77b5b22fd",
   "metadata": {},
   "outputs": [
    {
     "data": {
      "image/png": "[encoded data removed]",
      "text/plain": [
       "Plot with title \"Q-Q Plot del nivel de glucosa pasados 60 min de los jóvenes)\""
      ]
     },
     "metadata": {
      "image/png": {
       "height": 420,
       "width": 420
      }
     },
     "output_type": "display_data"
    }
   ],
   "source": [
    "qqnorm(test_glucosa$`Nivel glucosa 60 min`[test_glucosa$`Grupo de control` == 2],\n",
    "       main = \"Q-Q Plot del nivel de glucosa pasados 60 min de los jóvenes)\")\n",
    "qqline(test_glucosa$`Nivel glucosa 60 min`[test_glucosa$`Grupo de control` == 2],\n",
    "       col = \"yellow\", lwd = 2)"
   ]
  },
  {
   "cell_type": "markdown",
   "id": "a6a8244d-b773-4210-9e7c-319dfba2da9a",
   "metadata": {},
   "source": [
    "En el caso de los adultos, el `Q-Q Plot` indica que la mayoría de los puntos están alineados a lo largo de la línea amarilla, que representa la distribución normal teórica. Hay ligeros desvíos en los extremos, pero en general, los datos siguen muy bien la línea. En conclusión, los datos del nivel de glucosa pasados 60 minutos en adultos están **muy cerca de una distribución normal**."
   ]
  },
  {
   "cell_type": "code",
   "execution_count": 161,
   "id": "6323b250-f983-4278-bdee-392e4d1b449b",
   "metadata": {},
   "outputs": [
    {
     "data": {
      "text/plain": [
       "\n",
       "\tShapiro-Wilk normality test\n",
       "\n",
       "data:  test_glucosa$`Nivel glucosa 60 min`[test_glucosa$`Grupo de control` == 2]\n",
       "W = 0.97761, p-value = 0.7592\n"
      ]
     },
     "metadata": {},
     "output_type": "display_data"
    }
   ],
   "source": [
    "shapiro.test(test_glucosa$`Nivel glucosa 60 min`[test_glucosa$`Grupo de control` == 2])"
   ]
  },
  {
   "cell_type": "markdown",
   "id": "594b3198-85b9-4d7d-a44c-23521f438f77",
   "metadata": {},
   "source": [
    "Al igual que en los jóvenes, se realiza la `prueba de Shapiro-Wilk` para reafirmar estos resultados. Aquí, el **valor-p** es **0,7592**, por lo que al ser mucho mayor a 0,05 no se rechaza la hipótesis nula de normalidad. Esto significa que no hay evidencia suficiente para considerar que los datos no siguen una distribución normal."
   ]
  },
  {
   "cell_type": "code",
   "execution_count": 162,
   "id": "79f3e73f-1916-4c13-b168-2239e3b68d6b",
   "metadata": {},
   "outputs": [
    {
     "data": {
      "image/png": "[encoded data removed]",
      "text/plain": [
       "plot without title"
      ]
     },
     "metadata": {
      "image/png": {
       "height": 420,
       "width": 420
      }
     },
     "output_type": "display_data"
    }
   ],
   "source": [
    "test_glucosa_60min2 <- test_glucosa[test_glucosa$`Grupo de control` == 2, ]\n",
    "\n",
    "\n",
    "ggplot(data = test_glucosa_60min2, aes(x = `Nivel glucosa 60 min`)) +\n",
    "  geom_histogram(\n",
    "    binwidth = 7,  \n",
    "    fill = \"darkolivegreen2\",\n",
    "    color = \"black\"\n",
    "  ) +\n",
    "  labs(\n",
    "    title = \"Nivel de glucosa pasado 60 min en adultos\",\n",
    "    x = \"Nivel de glucosa (mg/Dl)\",\n",
    "    y = \"Frecuencia\"\n",
    "  ) +\n",
    "  theme_minimal() "
   ]
  },
  {
   "cell_type": "markdown",
   "id": "d898f7b0-ce63-41a9-b318-8a220461e5c3",
   "metadata": {},
   "source": [
    "Por último, el `histograma` muestra una forma aproximadamente simétrica, lo que sugiere una posible proximidad a la normalidad. Este hallazgo es respaldado por el resultado del test de Shapiro-Wilk, por lo que se puede concluir que la distribución de los datos es **consistente con una distribución normal** o al menos muy cercana a ella. Este patrón implica que los datos están centrados alrededor de un promedio con una dispersión típica esperada en una distribución normal. Sin embargo, para una validación más robusta, se podrían complementar estos resultados con el cálculo de la simetría."
   ]
  },
  {
   "cell_type": "code",
   "execution_count": 163,
   "id": "ea288968-d6b4-464d-b662-2258c5cfdc70",
   "metadata": {},
   "outputs": [
    {
     "data": {
      "text/html": [
       "0.233398224857487"
      ],
      "text/latex": [
       "0.233398224857487"
      ],
      "text/markdown": [
       "0.233398224857487"
      ],
      "text/plain": [
       "[1] 0.2333982"
      ]
     },
     "metadata": {},
     "output_type": "display_data"
    }
   ],
   "source": [
    "skewness(test_glucosa$`Nivel glucosa 60 min`[test_glucosa$`Grupo de control` == 2])"
   ]
  },
  {
   "cell_type": "markdown",
   "id": "761ff5d2-c78f-48f3-8cb7-4aa2ecab80c0",
   "metadata": {},
   "source": [
    "El valor de simetría de **0,2334** indica que la distribución tiene una **ligera asimetría positiva**. Esto significa que los valores extremos en la cola derecha son un poco más frecuentes que en la cola izquierda, pero el efecto es muy leve. Dado que este valor está cerca de 0, la distribución puede seguir considerándose **cercana a la normalidad**."
   ]
  },
  {
   "cell_type": "markdown",
   "id": "ce63a85d-d9db-4e0d-9cda-25705763290e",
   "metadata": {},
   "source": [
    "---\n",
    "## Ejercicio 2"
   ]
  },
  {
   "cell_type": "markdown",
   "id": "18333b48-852a-4779-992a-5bf7e9b0e604",
   "metadata": {},
   "source": [
    "A continuación, pasaré a realizar el **Ejercicio 2** apartado por apartado, el cual busca estudiar la relación existente entre el nivel basal y el nivel de glucosa que tienen los pacientes sanos jóvenes (grupo 1) una hora después de tomar el preparado de glucosa:"
   ]
  },
  {
   "cell_type": "markdown",
   "id": "6bf922ca-6f61-4c91-8764-650ad0be48a6",
   "metadata": {},
   "source": [
    "### a) Estudiar la relación lineal existente entre estas dos variables de estudio gráficamente y mediante algún valor estadístico de forma razonada"
   ]
  },
  {
   "cell_type": "code",
   "execution_count": 164,
   "id": "dd19d188-7e9f-433f-b9d6-b120575420ea",
   "metadata": {},
   "outputs": [
    {
     "data": {
      "text/html": [
       "0.796405256684113"
      ],
      "text/latex": [
       "0.796405256684113"
      ],
      "text/markdown": [
       "0.796405256684113"
      ],
      "text/plain": [
       "[1] 0.7964053"
      ]
     },
     "metadata": {},
     "output_type": "display_data"
    }
   ],
   "source": [
    "grupo1 <- test_glucosa[test_glucosa$`Grupo de control` == 1, ]\n",
    "cor(grupo1$`Nivel glucosa basal`, grupo1$`Nivel glucosa 60 min`)"
   ]
  },
  {
   "cell_type": "markdown",
   "id": "275bfcab-bf53-45ef-b973-72a55fc2aa5f",
   "metadata": {},
   "source": [
    "El `coeficiente de correlación` obtenido, de aproximadamente **0,7964**, indica que existe una **relación lineal positiva fuerte** entre el nivel basal de glucosa y el nivel de glucosa a los 60 minutos del grupo 1. Esto implica que a medida que aumenta el nivel basal, también tiende a aumentar el nivel posterior a la ingesta del preparado de glucosa."
   ]
  },
  {
   "cell_type": "code",
   "execution_count": 165,
   "id": "687056e3-fac8-40cd-b500-71104133d263",
   "metadata": {},
   "outputs": [
    {
     "name": "stderr",
     "output_type": "stream",
     "text": [
      "\u001b[1m\u001b[22m`geom_smooth()` using formula = 'y ~ x'\n"
     ]
    },
    {
     "data": {
      "image/png": "[encoded data removed]",
      "text/plain": [
       "plot without title"
      ]
     },
     "metadata": {
      "image/png": {
       "height": 420,
       "width": 420
      }
     },
     "output_type": "display_data"
    }
   ],
   "source": [
    "library(ggplot2)\n",
    "ggplot(grupo1, aes(x = `Nivel glucosa basal`, y = `Nivel glucosa 60 min`)) +\n",
    "  geom_point(color = \"chocolate\", size = 3) +\n",
    "  geom_smooth(method = \"lm\", se = FALSE, color = \"darkseagreen3\") +\n",
    "  labs(\n",
    "    title = \"Relación entre el nivel basal y el nivel de glucosa a los 60 min\",\n",
    "    x = \"Nivel glucosa basal (mg/Dl)\",\n",
    "    y = \"Nivel glucosa a los 60 min (mg/Dl)\"\n",
    "  ) +\n",
    "  theme_minimal()"
   ]
  },
  {
   "cell_type": "markdown",
   "id": "748c4cb4-0407-450d-bf44-581e28da8930",
   "metadata": {},
   "source": [
    "Por otro lado, en el `gráfico de dispersión` podemos ver una clara tendencia ascendente, es decir; una **relación positiva** entre ambas variables. A medida que aumenta el nivel basal de glucosa, también lo hace el nivel de glucosa a los 60 minutos. La `línea de regresión` superpuesta refuerza esta idea al mostrar la dirección y la magnitud promedio de la relación."
   ]
  },
  {
   "cell_type": "markdown",
   "id": "b892bd1e-14a8-4192-bcda-545ddebd03d0",
   "metadata": {},
   "source": [
    "### b) Obtener un modelo lineal que explica el nivel de glucosa en sangre a los 60 minutos en función del nivel basal del paciente y realizar la estimación para un paciente cuyo nivel basal es 83 mg/Dl"
   ]
  },
  {
   "cell_type": "code",
   "execution_count": 166,
   "id": "0173f28e-7caa-4e67-b147-7595f01545a0",
   "metadata": {},
   "outputs": [
    {
     "data": {
      "text/plain": [
       "\n",
       "Call:\n",
       "lm(formula = `Nivel glucosa 60 min` ~ `Nivel glucosa basal`, \n",
       "    data = grupo1)\n",
       "\n",
       "Residuals:\n",
       "    Min      1Q  Median      3Q     Max \n",
       "-8.4972 -3.0284 -0.3754  2.5325 11.5934 \n",
       "\n",
       "Coefficients:\n",
       "                      Estimate Std. Error t value Pr(>|t|)    \n",
       "(Intercept)           91.38365    7.84251  11.652 3.08e-13 ***\n",
       "`Nivel glucosa basal`  0.69689    0.09212   7.565 1.06e-08 ***\n",
       "---\n",
       "Signif. codes:  0 '***' 0.001 '**' 0.01 '*' 0.05 '.' 0.1 ' ' 1\n",
       "\n",
       "Residual standard error: 4.751 on 33 degrees of freedom\n",
       "Multiple R-squared:  0.6343,\tAdjusted R-squared:  0.6232 \n",
       "F-statistic: 57.23 on 1 and 33 DF,  p-value: 1.056e-08\n"
      ]
     },
     "metadata": {},
     "output_type": "display_data"
    }
   ],
   "source": [
    "recta <-  lm(`Nivel glucosa 60 min` ~ `Nivel glucosa basal`, data = grupo1)\n",
    "summary(recta)"
   ]
  },
  {
   "cell_type": "markdown",
   "id": "7dadf602-5426-4487-a39c-e68c38227838",
   "metadata": {},
   "source": [
    "El `modelo lineal` obtenido indica que el nivel de glucosa a los 60 minutos puede explicarse mediante la ecuación **Nivel glucosa 60 min = 91,38 + 0,697 * Nivel glucosa basal**, lo que sugiere que por cada unidad adicional en el nivel basal de glucosa, el nivel de glucosa a los 60 minutos aumenta en promedio **0,697 unidades**. \n",
    "\n",
    "Respecto al coeficiente de determinación ajustado (**0,623**) indica que el modelo explica el **62,3%** de la variabilidad del nivel de glucosa a los 60 minutos, lo que refleja una relación moderada entre ambas variables."
   ]
  },
  {
   "cell_type": "code",
   "execution_count": 167,
   "id": "d83fb0d9-06d1-4698-9b93-5880e6b1fe86",
   "metadata": {},
   "outputs": [
    {
     "data": {
      "text/html": [
       "<table class=\"dataframe\">\n",
       "<caption>A matrix: 1 × 3 of type dbl</caption>\n",
       "<thead>\n",
       "\t<tr><th></th><th scope=col>fit</th><th scope=col>lwr</th><th scope=col>upr</th></tr>\n",
       "</thead>\n",
       "<tbody>\n",
       "\t<tr><th scope=row>1</th><td>149.2252</td><td>147.5612</td><td>150.8893</td></tr>\n",
       "</tbody>\n",
       "</table>\n"
      ],
      "text/latex": [
       "A matrix: 1 × 3 of type dbl\n",
       "\\begin{tabular}{r|lll}\n",
       "  & fit & lwr & upr\\\\\n",
       "\\hline\n",
       "\t1 & 149.2252 & 147.5612 & 150.8893\\\\\n",
       "\\end{tabular}\n"
      ],
      "text/markdown": [
       "\n",
       "A matrix: 1 × 3 of type dbl\n",
       "\n",
       "| <!--/--> | fit | lwr | upr |\n",
       "|---|---|---|---|\n",
       "| 1 | 149.2252 | 147.5612 | 150.8893 |\n",
       "\n"
      ],
      "text/plain": [
       "  fit      lwr      upr     \n",
       "1 149.2252 147.5612 150.8893"
      ]
     },
     "metadata": {},
     "output_type": "display_data"
    }
   ],
   "source": [
    "nuevo_paciente <- data.frame(`Nivel glucosa basal` = 83, check.names = FALSE)\n",
    "predict(recta, newdata = nuevo_paciente, interval = \"confidence\", level = 0.95)"
   ]
  },
  {
   "cell_type": "markdown",
   "id": "47500582-0ebc-435b-8624-5a2deaa8c482",
   "metadata": {},
   "source": [
    "En cuanto a la `estimación realizada para un paciente con un nivel basal de glucosa de 83 mg/Dl`, se ha obtenido un nivel de glucosa a los 60 minutos de **149,23 mg/Dl**, con un intervalo de confianza del **95%** que va desde **147,56 mg/Dl** hasta **150,89 mg/Dl**. Esto proporciona un rango estrecho que refuerza la fiabilidad de la predicción y refleja que el modelo no solo es estadísticamente significativo, sino que también es útil para realizar estimaciones en este rango de datos."
   ]
  },
  {
   "cell_type": "markdown",
   "id": "e78a66c2-94b5-44e7-abc5-8a56677b9d3e",
   "metadata": {},
   "source": [
    "### c) ¿Qué tanto por ciento del nivel de glucosa en sangre pasados 60 minutos no queda explicado por el anterior modelo?"
   ]
  },
  {
   "cell_type": "code",
   "execution_count": 168,
   "id": "a98326b5-58ca-4da9-bbab-5fe548b81bfd",
   "metadata": {},
   "outputs": [
    {
     "data": {
      "text/html": [
       "37.6821657038818"
      ],
      "text/latex": [
       "37.6821657038818"
      ],
      "text/markdown": [
       "37.6821657038818"
      ],
      "text/plain": [
       "[1] 37.68217"
      ]
     },
     "metadata": {},
     "output_type": "display_data"
    }
   ],
   "source": [
    "r2_ajustado <- summary(recta)$adj.r.squared\n",
    "\n",
    "(1 - r2_ajustado) * 100"
   ]
  },
  {
   "cell_type": "markdown",
   "id": "50f58ec6-feb4-4219-9e60-ba3726bae90a",
   "metadata": {},
   "source": [
    "El `porcentaje de variabilidad no explicado por el modelo` es aproximadamente **37,68%**, por lo que una parte significativa de la variabilidad en los niveles de glucosa en sangre a los 60 minutos no puede ser atribuida únicamente al nivel basal de glucosa. En concreto, otros factores (características individuales del paciente, metabolismo, dieta, etc.) podrían estar influyendo en los niveles de glucosa a los 60 minutos y no se incluyen en el modelo actual. \n",
    "\n",
    "En conclusión, aunque el modelo explica una proporción considerable de la variabilidad, podríamos decir que aunque es relevante no es suficiente por sí solo para predecir POR COMPLETO los niveles de glucosa a los 60 minutos, y se podría considerar incluir variables adicionales en futuros análisis para mejorar el ajuste del modelo."
   ]
  },
  {
   "cell_type": "markdown",
   "id": "f688aa98-fb9e-4de7-b4a6-2f4cc018ed36",
   "metadata": {},
   "source": [
    "### d) Si aumentásemos el nivel basal de un paciente en 5 mg/Dl ¿Qué variación experimentaría su nivel de glucosa al cabo de 60 minutos??"
   ]
  },
  {
   "cell_type": "code",
   "execution_count": 169,
   "id": "5a337d96-d61a-4ed1-8909-74effeaf3ed2",
   "metadata": {},
   "outputs": [
    {
     "data": {
      "text/html": [
       "<strong>`Nivel glucosa basal`:</strong> 3.48443341498002"
      ],
      "text/latex": [
       "\\textbf{`Nivel glucosa basal`:} 3.48443341498002"
      ],
      "text/markdown": [
       "**`Nivel glucosa basal`:** 3.48443341498002"
      ],
      "text/plain": [
       "`Nivel glucosa basal` \n",
       "             3.484433 "
      ]
     },
     "metadata": {},
     "output_type": "display_data"
    }
   ],
   "source": [
    "pendiente <- coef(recta)[2] \n",
    "pendiente * 5"
   ]
  },
  {
   "cell_type": "markdown",
   "id": "a867b920-5265-4753-a5db-74d1feb1c561",
   "metadata": {},
   "source": [
    "Un aumento de **5 mg/Dl** en el nivel basal de glucosa provocaría, según el `modelo ajustado`, un incremento promedio de aproximadamente **3,48 mg/Dl** en el nivel de glucosa a los 60 minutos."
   ]
  },
  {
   "cell_type": "markdown",
   "id": "8401f0b8-a385-4385-8b43-ec15fd3a5eb6",
   "metadata": {},
   "source": [
    "---\n",
    "## Ejercicio 3"
   ]
  },
  {
   "cell_type": "markdown",
   "id": "0c650158-8cc2-4758-9e27-8e5567034485",
   "metadata": {},
   "source": [
    "Por último, terminaré este estudio resolviendo las cuestiones planteadas en el **Ejercicio 3**:"
   ]
  },
  {
   "cell_type": "markdown",
   "id": "51e6256c-1600-4477-ad6c-b96b77a80fcf",
   "metadata": {},
   "source": [
    "### a) Se quiere estudiar si se puede admitir que el nivel medio de glucosa en sangre en el momento de la ingestión en los jóvenes es 88 mg/Dl. Obtener el intervalo de confianza al 95% y al 99% para el nivel medio de glucosa en sangre de los jóvenes y posteriormente contesta a la cuestión planteada con los resultados obtenidos o con un contraste de hipótesis"
   ]
  },
  {
   "cell_type": "code",
   "execution_count": 170,
   "id": "793ce966-66f8-4084-8b4b-d632eb2b0b63",
   "metadata": {},
   "outputs": [],
   "source": [
    "media <- mean(grupo1$`Nivel glucosa basal`, na.rm = TRUE)\n",
    "desviacion_estandar <- sd(grupo1$`Nivel glucosa basal`, na.rm = TRUE)\n",
    "n <- length(grupo1$`Nivel glucosa basal`)\n",
    "error_estandar <- desviacion_estandar / sqrt(n)\n",
    "\n",
    "alpha_95 <- 0.05\n",
    "alpha_99 <- 0.01\n",
    "\n",
    "ic_95 <- c(\n",
    "  media - qt(1 - alpha_95 / 2, df = n - 1) * error_estandar,\n",
    "  media + qt(1 - alpha_95 / 2, df = n - 1) * error_estandar\n",
    ")\n",
    "\n",
    "ic_99 <- c(\n",
    "  media - qt(1 - alpha_99 / 2, df = n - 1) * error_estandar,\n",
    "  media + qt(1 - alpha_99 / 2, df = n - 1) * error_estandar\n",
    ")"
   ]
  },
  {
   "cell_type": "code",
   "execution_count": 171,
   "id": "78d54675-abce-4e49-b24a-41176196b0ea",
   "metadata": {},
   "outputs": [
    {
     "data": {
      "text/html": [
       "84.6857142857143"
      ],
      "text/latex": [
       "84.6857142857143"
      ],
      "text/markdown": [
       "84.6857142857143"
      ],
      "text/plain": [
       "[1] 84.68571"
      ]
     },
     "metadata": {},
     "output_type": "display_data"
    }
   ],
   "source": [
    "media"
   ]
  },
  {
   "cell_type": "markdown",
   "id": "f7012e97-e6a4-416a-9f34-334830cfee31",
   "metadata": {},
   "source": [
    "La `media` del nivel basal de glucosa para los pacientes jóvenes del grupo 1 -como ya vimos en el Ejercicio 1- es de aproximadamente **84,69 mg/Dl**, y representa el valor promedio observado en la muestra."
   ]
  },
  {
   "cell_type": "code",
   "execution_count": 172,
   "id": "6985024e-d9e6-49fd-bbad-efefa16492c0",
   "metadata": {},
   "outputs": [
    {
     "data": {
      "text/html": [
       "<style>\n",
       ".list-inline {list-style: none; margin:0; padding: 0}\n",
       ".list-inline>li {display: inline-block}\n",
       ".list-inline>li:not(:last-child)::after {content: \"\\00b7\"; padding: 0 .5ex}\n",
       "</style>\n",
       "<ol class=list-inline><li>81.647586933019</li><li>87.7238416384095</li></ol>\n"
      ],
      "text/latex": [
       "\\begin{enumerate*}\n",
       "\\item 81.647586933019\n",
       "\\item 87.7238416384095\n",
       "\\end{enumerate*}\n"
      ],
      "text/markdown": [
       "1. 81.647586933019\n",
       "2. 87.7238416384095\n",
       "\n",
       "\n"
      ],
      "text/plain": [
       "[1] 81.64759 87.72384"
      ]
     },
     "metadata": {},
     "output_type": "display_data"
    }
   ],
   "source": [
    "ic_95"
   ]
  },
  {
   "cell_type": "markdown",
   "id": "932931fd-4408-47df-9df9-e10827847529",
   "metadata": {},
   "source": [
    "El `intervalo de confianza al 95%` para la media del nivel basal de glucosa está entre **81,65 mg/Dl** y **87,72 mg/Dl**. Esto implica que, con un nivel de confianza del 95%, el verdadero nivel medio de glucosa basal de esta población está dentro de este rango. \n",
    "\n",
    "Este intervalo no incluye el valor de **88 mg/Dl**."
   ]
  },
  {
   "cell_type": "code",
   "execution_count": 173,
   "id": "ba10f5fc-89d6-49bc-b44e-bcd097af740d",
   "metadata": {},
   "outputs": [
    {
     "data": {
      "text/html": [
       "<style>\n",
       ".list-inline {list-style: none; margin:0; padding: 0}\n",
       ".list-inline>li {display: inline-block}\n",
       ".list-inline>li:not(:last-child)::after {content: \"\\00b7\"; padding: 0 .5ex}\n",
       "</style>\n",
       "<ol class=list-inline><li>80.6068696794026</li><li>88.764558892026</li></ol>\n"
      ],
      "text/latex": [
       "\\begin{enumerate*}\n",
       "\\item 80.6068696794026\n",
       "\\item 88.764558892026\n",
       "\\end{enumerate*}\n"
      ],
      "text/markdown": [
       "1. 80.6068696794026\n",
       "2. 88.764558892026\n",
       "\n",
       "\n"
      ],
      "text/plain": [
       "[1] 80.60687 88.76456"
      ]
     },
     "metadata": {},
     "output_type": "display_data"
    }
   ],
   "source": [
    "ic_99"
   ]
  },
  {
   "cell_type": "markdown",
   "id": "70aa3380-57c3-48ea-abf1-365a49b34c7f",
   "metadata": {},
   "source": [
    "Por otro lado, el `intervalo de confianza al 99%` es más amplio, oscilando entre **80,61 mg/Dl** y **88,76 mg/Dl**.\n",
    "\n",
    "A diferencia del intervalo al 95%, este sí incluye el valor teórico de **88 mg/dL**."
   ]
  },
  {
   "cell_type": "code",
   "execution_count": 174,
   "id": "f1127e41-6b67-441b-adf1-71a8fb3b3a4b",
   "metadata": {},
   "outputs": [
    {
     "data": {
      "text/plain": [
       "\n",
       "\tOne Sample t-test\n",
       "\n",
       "data:  grupo1$`Nivel glucosa basal`\n",
       "t = -2.217, df = 34, p-value = 0.03342\n",
       "alternative hypothesis: true mean is not equal to 88\n",
       "95 percent confidence interval:\n",
       " 81.64759 87.72384\n",
       "sample estimates:\n",
       "mean of x \n",
       " 84.68571 \n"
      ]
     },
     "metadata": {},
     "output_type": "display_data"
    }
   ],
   "source": [
    "t.test(grupo1$`Nivel glucosa basal`, mu = 88)"
   ]
  },
  {
   "cell_type": "markdown",
   "id": "51597abd-82ea-49c6-bfd3-e1911e07718a",
   "metadata": {},
   "source": [
    "- `t (valor estadístico)`: el valor de **-2,217** indica que la media muestral de glucosa basal está a -2,217 errores estándar por debajo del valor hipotético de **88 mg/Dl**. Esto refleja una diferencia significativa entre la media observada y la planteada en la hipótesis nula.\n",
    "- `p-valor`: el valor de **0,3342** indica que al nivel de significancia del 5% hay suficiente evidencia estadística para rechazar la hipótesis nula de que la media es **88 mg/Dl**. Sin embargo, como el p-valor es mayor que 0,01, no se rechaza la hipótesis nula al nivel de significancia más estricto del 1%."
   ]
  },
  {
   "cell_type": "markdown",
   "id": "d9b7158d-89ef-4782-8748-8aaf73c38864",
   "metadata": {},
   "source": [
    "**Conclusiones**\n",
    "\n",
    "Al nivel de significancia del **5%**, se concluye que la media de glucosa basal en sangre para los pacientes jóvenes **es significativamente diferente de 88 mg/Dl**, ya que el intervalo de confianza al 95% no incluye este valor y el p-valor es menor que 0,05.\n",
    "\n",
    "No obstante, al nivel de significancia más estricto del **1%**, **no hay suficiente evidencia para rechazar la hipótesis nula**, ya que el intervalo de confianza al 99% incluye el valor de 88 mg/Dl y el p-valor es mayor que 0,01. Esto sugiere que la diferencia observada depende del nivel de confianza considerado."
   ]
  },
  {
   "cell_type": "markdown",
   "id": "de513224-0666-4909-82f5-943ce3570f56",
   "metadata": {},
   "source": [
    "### b) Obtener los intervalos de confianza al 95% para la diferencia de medias en el nivel basal de glucosa entre adultos y jovenes e interpreta los resultados. ¿Se puede concluir que el nivel basal de glucosa de los jóvenes y los adultos es el mismo con nivel de significación del 5%? Suponiendo que se cumplen las condiciones iniciales teóricas para obtener los intervalos de confianza"
   ]
  },
  {
   "cell_type": "code",
   "execution_count": 175,
   "id": "4d5e8da2-f28d-4f12-85dd-4b27fe2ef30d",
   "metadata": {},
   "outputs": [],
   "source": [
    "grupo2 <- test_glucosa[test_glucosa$`Grupo de control` == 2, ]\n",
    "\n",
    "t_test_result <- t.test(\n",
    "  grupo1$`Nivel glucosa basal`,\n",
    "  grupo2$`Nivel glucosa basal`,\n",
    "  var.equal = TRUE, \n",
    "  conf.level = 0.95\n",
    ")"
   ]
  },
  {
   "cell_type": "code",
   "execution_count": 176,
   "id": "e6bf525a-b133-415e-98a7-61dffe3ece69",
   "metadata": {},
   "outputs": [
    {
     "data": {
      "text/plain": [
       "\n",
       "\tTwo Sample t-test\n",
       "\n",
       "data:  grupo1$`Nivel glucosa basal` and grupo2$`Nivel glucosa basal`\n",
       "t = -2.3138, df = 63, p-value = 0.02395\n",
       "alternative hypothesis: true difference in means is not equal to 0\n",
       "95 percent confidence interval:\n",
       " -8.7858509 -0.6427205\n",
       "sample estimates:\n",
       "mean of x mean of y \n",
       " 84.68571  89.40000 \n"
      ]
     },
     "metadata": {},
     "output_type": "display_data"
    }
   ],
   "source": [
    "t_test_result"
   ]
  },
  {
   "cell_type": "markdown",
   "id": "85c5904c-4213-4c87-8c0d-15947d2b9501",
   "metadata": {},
   "source": [
    "El `intervalo de confianza al 95% para la diferencia de medias en el nivel basal de glucosa entre jóvenes y adultos` es de **[-8,79, -0,64]**. Este intervalo no incluye el valor 0, lo que indica que existe una diferencia estadísticamente significativa entre las medias de ambos grupos al nivel de significación del 5%. \n",
    "\n",
    "Como hemos comprobado repetidas veces, la media estimada del nivel basal de glucosa en los jóvenes es de **84,69 mg/Dl**, mientras que en los adultos es de **89,40 mg/Dl**, lo que muestra que el nivel basal de glucosa de los adultos es mayor que el de los jóvenes.\n",
    "\n",
    "El p-valor asociado al contraste de hipótesis es de **0,02395**, menor que 0,05, reforzándose la conclusión de que se puede rechazar la hipótesis nula de que las medias son iguales. \n",
    "\n",
    "**Conclusiones**\n",
    "\n",
    "Por tanto, al nivel de significación del 5%, se concluye que hay una **diferencia significativa en los niveles basales de glucosa entre jóvenes y adultos**, siendo el nivel basal mayor en el grupo de los adultos."
   ]
  },
  {
   "cell_type": "markdown",
   "id": "0109abd5-118f-4dac-b379-30772ae72aee",
   "metadata": {},
   "source": [
    "### c) Se quiere estudiar la proporción de la población con un nivel basal de glucosa superior a 95 mg/Dl (prediabetes). A partir de la muestra del fichero (tomando todos los datos) obtener un intervalo de confianza al 98% y contrastar la hipótesis que la proporción de la población con glucosa superior a 95 mg/Dl es 0,15 con nivel de significación del 5%"
   ]
  },
  {
   "cell_type": "code",
   "execution_count": 177,
   "id": "5bff4e99-756f-437a-b5c5-4937b25090f8",
   "metadata": {},
   "outputs": [
    {
     "data": {
      "text/html": [
       "0.169230769230769"
      ],
      "text/latex": [
       "0.169230769230769"
      ],
      "text/markdown": [
       "0.169230769230769"
      ],
      "text/plain": [
       "[1] 0.1692308"
      ]
     },
     "metadata": {},
     "output_type": "display_data"
    }
   ],
   "source": [
    "n_total <- nrow(test_glucosa)\n",
    "n_prediabetes <- sum(test_glucosa$`Nivel glucosa basal` > 95)\n",
    "p_muestra <- n_prediabetes / n_total\n",
    "p_muestra"
   ]
  },
  {
   "cell_type": "markdown",
   "id": "979ae023-67c3-4430-9c54-fe7e0c421eb4",
   "metadata": {},
   "source": [
    "La proporción de la `población con un nivel basal de glucosa superior a 95 mg/Dl` es de aproximadamente **16,92%**."
   ]
  },
  {
   "cell_type": "code",
   "execution_count": 178,
   "id": "c19d6c65-3a4c-4b2a-9726-c82e10b0ec67",
   "metadata": {},
   "outputs": [
    {
     "data": {
      "text/html": [
       "<style>\n",
       ".list-inline {list-style: none; margin:0; padding: 0}\n",
       ".list-inline>li {display: inline-block}\n",
       ".list-inline>li:not(:last-child)::after {content: \"\\00b7\"; padding: 0 .5ex}\n",
       "</style>\n",
       "<ol class=list-inline><li>0.0610380974510168</li><li>0.277423441010522</li></ol>\n"
      ],
      "text/latex": [
       "\\begin{enumerate*}\n",
       "\\item 0.0610380974510168\n",
       "\\item 0.277423441010522\n",
       "\\end{enumerate*}\n"
      ],
      "text/markdown": [
       "1. 0.0610380974510168\n",
       "2. 0.277423441010522\n",
       "\n",
       "\n"
      ],
      "text/plain": [
       "[1] 0.0610381 0.2774234"
      ]
     },
     "metadata": {},
     "output_type": "display_data"
    }
   ],
   "source": [
    "alpha_98 <- 0.02\n",
    "error_estandar <- sqrt((p_muestra * (1 - p_muestra)) / n_total)\n",
    "z_critico <- qnorm(1 - alpha_98 / 2)\n",
    "ic_98 <- c(\n",
    "  p_muestra - z_critico * error_estandar,\n",
    "  p_muestra + z_critico * error_estandar\n",
    ")\n",
    "ic_98"
   ]
  },
  {
   "cell_type": "markdown",
   "id": "001823e9-bce9-4e3e-98ff-ab065385dbba",
   "metadata": {},
   "source": [
    "Por su parte, el `intervalo de confianza al 98%` es de aproximadamente **[0,06, 0,28]**, lo que sugiere que con un nivel de confianza del 98% la proporción real de la población con niveles basales superiores a 95 mg/Dl se encuentra dentro de este rango; ya que este intervalo incluye el valor de 0,15."
   ]
  },
  {
   "cell_type": "code",
   "execution_count": 179,
   "id": "7807a2da-198d-4765-adce-98a37caf9cde",
   "metadata": {},
   "outputs": [
    {
     "data": {
      "text/html": [
       "<style>\n",
       ".list-inline {list-style: none; margin:0; padding: 0}\n",
       ".list-inline>li {display: inline-block}\n",
       ".list-inline>li:not(:last-child)::after {content: \"\\00b7\"; padding: 0 .5ex}\n",
       "</style>\n",
       "<ol class=list-inline><li>0.0780777037560246</li><li>0.260383834705514</li></ol>\n"
      ],
      "text/latex": [
       "\\begin{enumerate*}\n",
       "\\item 0.0780777037560246\n",
       "\\item 0.260383834705514\n",
       "\\end{enumerate*}\n"
      ],
      "text/markdown": [
       "1. 0.0780777037560246\n",
       "2. 0.260383834705514\n",
       "\n",
       "\n"
      ],
      "text/plain": [
       "[1] 0.0780777 0.2603838"
      ]
     },
     "metadata": {},
     "output_type": "display_data"
    }
   ],
   "source": [
    "alpha_95 <- 0.05\n",
    "z_critico_95 <- qnorm(1 - alpha_95 / 2)\n",
    "ic_95_2 <- c(\n",
    "  p_muestra - z_critico_95 * sqrt((p_muestra * (1 - p_muestra)) / n_total),\n",
    "  p_muestra + z_critico_95 * sqrt((p_muestra * (1 - p_muestra)) / n_total)\n",
    ")\n",
    "ic_95_2"
   ]
  },
  {
   "cell_type": "markdown",
   "id": "0bf48983-734f-4b46-9687-522aeed58d93",
   "metadata": {},
   "source": [
    "Para finalizar, el `intervalo de confianza al 95% para la proporción de la población con niveles basales de glucosa superiores a 95 mg/Dl` es de aproximadamente **[0,0781, 0,2604]**, lo que indica que, con un nivel de confianza del 95%, la proporción real de la población prediabética se encuentra dentro de este rango. Como el valor hipotético de 0,15 está contenido dentro del intervalo, **no hay suficiente evidencia para rechazar la hipótesis nula de que la proporción real es 0,15 al nivel de significación del 5%**."
   ]
  },
  {
   "cell_type": "markdown",
   "id": "b6969d94-4ff2-4d17-9966-b31351131377",
   "metadata": {},
   "source": [
    "### d) ¿Se detecta una variación significativa del nivel de glucosa en sangre en el grupo de los adultos después de la toma ?"
   ]
  },
  {
   "cell_type": "code",
   "execution_count": 180,
   "id": "2bb41f6b-b956-4ca1-94dc-ba5b4651c45e",
   "metadata": {},
   "outputs": [
    {
     "data": {
      "text/plain": [
       "\n",
       "\tOne Sample t-test\n",
       "\n",
       "data:  diferencias\n",
       "t = -34.374, df = 29, p-value < 2.2e-16\n",
       "alternative hypothesis: true mean is not equal to 0\n",
       "95 percent confidence interval:\n",
       " -87.33805 -77.52862\n",
       "sample estimates:\n",
       "mean of x \n",
       "-82.43333 \n"
      ]
     },
     "metadata": {},
     "output_type": "display_data"
    },
    {
     "data": {
      "text/html": [
       "<pre class=language-r><code>function (x, ...) \n",
       "UseMethod(\"t.test\")</code></pre>"
      ],
      "text/latex": [
       "\\begin{minted}{r}\n",
       "function (x, ...) \n",
       "UseMethod(\"t.test\")\n",
       "\\end{minted}"
      ],
      "text/markdown": [
       "```r\n",
       "function (x, ...) \n",
       "UseMethod(\"t.test\")\n",
       "```"
      ],
      "text/plain": [
       "function (x, ...) \n",
       "UseMethod(\"t.test\")\n",
       "<bytecode: 0x000001c5b00f7d48>\n",
       "<environment: namespace:stats>"
      ]
     },
     "metadata": {},
     "output_type": "display_data"
    }
   ],
   "source": [
    "grupo2 <- test_glucosa[test_glucosa$`Grupo de control` == 2, ]\n",
    "\n",
    "diferencias <- grupo2$`Nivel glucosa basal` - grupo2$`Nivel glucosa 60 min`\n",
    "\n",
    "t.test(diferencias, mu = 0, conf.level = 0.95)\n",
    "t.test"
   ]
  },
  {
   "cell_type": "markdown",
   "id": "5eb58ab8-dd23-44bc-8d45-ca3af1c8e48b",
   "metadata": {},
   "source": [
    "Los resultados muestran que el valor de t es **-34,374**, con **29** grados de libertad y un p-valor extremadamente pequeño, lo que indica que **la diferencia entre los niveles basales y los niveles a los 60 minutos es altamente significativa**. \n",
    "\n",
    "Por otra parte, el `intervalo de confianza al 95% para la media de las diferencias` es **[-87,34, -77,53]**, sugiriendo que, con un nivel de confianza del 95%, el promedio de las diferencias entre los niveles basales y los niveles a los 60 minutos se encuentra en este rango negativo. \n",
    "\n",
    "La `media de las diferencias` es aproximadamente **-82,43**. Esto señala que, en promedio, los niveles de glucosa aumentaron en **82,43 mg/Dl** después de 60 minutos."
   ]
  },
  {
   "cell_type": "markdown",
   "id": "54b42b47-d98e-4cfc-a462-f86852623190",
   "metadata": {},
   "source": [
    "**Conclusiones**\n",
    "\n",
    "Dado que el intervalo de confianza no incluye 0 y el p-valor es mucho menor que el nivel de significancia del 5%, podemos afirmar que hay una **variación significativa entre los niveles basales y los niveles a los 60 minutos en el grupo de adultos**. Específicamente, los niveles de glucosa en sangre aumentan significativamente después de la ingesta en este grupo."
   ]
  }
 ],
 "metadata": {
  "kernelspec": {
   "display_name": "R",
   "language": "R",
   "name": "ir"
  },
  "language_info": {
   "codemirror_mode": "r",
   "file_extension": ".r",
   "mimetype": "text/x-r-source",
   "name": "R",
   "pygments_lexer": "r",
   "version": "4.3.1"
  }
 },
 "nbformat": 4,
 "nbformat_minor": 5
}
